{
 "cells": [
  {
   "cell_type": "code",
   "execution_count": 1,
   "metadata": {},
   "outputs": [
    {
     "name": "stderr",
     "output_type": "stream",
     "text": [
      "USER_AGENT environment variable not set, consider setting it to identify your requests.\n",
      "/mnt/c/Users/mtrias/OneDrive - Interpublic/Desktop/Pinecone/pine/lib/python3.12/site-packages/pinecone/data/index.py:1: TqdmWarning: IProgress not found. Please update jupyter and ipywidgets. See https://ipywidgets.readthedocs.io/en/stable/user_install.html\n",
      "  from tqdm.autonotebook import tqdm\n"
     ]
    }
   ],
   "source": [
    "import os\n",
    "import json\n",
    "from pydantic import BaseModel\n",
    "from langchain.chat_models import init_chat_model\n",
    "from langchain_openai import OpenAIEmbeddings\n",
    "from langchain_community.document_loaders import WebBaseLoader, PyPDFLoader\n",
    "from langchain_core.documents import Document\n",
    "from langchain_text_splitters import RecursiveCharacterTextSplitter\n",
    "from langgraph.graph import START, StateGraph\n",
    "from typing_extensions import List, TypedDict\n",
    "from langchain_core.prompts import ChatPromptTemplate\n",
    "from langchain_pinecone import PineconeVectorStore\n",
    "from pinecone import Pinecone, ServerlessSpec\n",
    "from dotenv import load_dotenv"
   ]
  },
  {
   "cell_type": "markdown",
   "metadata": {},
   "source": [
    "#### Embedding Model"
   ]
  },
  {
   "cell_type": "code",
   "execution_count": 2,
   "metadata": {},
   "outputs": [],
   "source": [
    "load_dotenv()\n",
    "if \"OPENAI_API_KEY\" not in os.environ:\n",
    "    os.environ[\"OPENAI_API_KEY\"] = os.getenv(\"OPENAI_API_KEY\")\n",
    "pc_api_key = os.getenv(\"PINECONE_API_KEY\")"
   ]
  },
  {
   "cell_type": "code",
   "execution_count": 3,
   "metadata": {},
   "outputs": [],
   "source": [
    "embeddings = OpenAIEmbeddings(model=\"text-embedding-3-large\")"
   ]
  },
  {
   "cell_type": "markdown",
   "metadata": {},
   "source": [
    "#### Vector Store"
   ]
  },
  {
   "cell_type": "code",
   "execution_count": 4,
   "metadata": {},
   "outputs": [
    {
     "name": "stdout",
     "output_type": "stream",
     "text": [
      "Index Already Exists\n"
     ]
    }
   ],
   "source": [
    "pc = Pinecone(api_key = pc_api_key)\n",
    "index_name = \"marketo\"\n",
    "\n",
    "if not pc.has_index(index_name):\n",
    "    print(\"Creating new index\")\n",
    "    pc.create_index(\n",
    "        name=index_name,\n",
    "        # vector_type=\"dense\",\n",
    "        dimension=3072, \n",
    "        metric=\"cosine\", \n",
    "        spec=ServerlessSpec(\n",
    "            cloud=\"aws\",\n",
    "            region=\"us-east-1\"\n",
    "        ) \n",
    "    )\n",
    "else:\n",
    "    print(\"Index Already Exists\")\n",
    "\n",
    "index = pc.Index(index_name)\n",
    "\n",
    "vector_store = PineconeVectorStore(index=index, embedding=embeddings)"
   ]
  },
  {
   "cell_type": "markdown",
   "metadata": {},
   "source": [
    "#### Load, Embedd and Store Docs (Web & PDFs)"
   ]
  },
  {
   "cell_type": "code",
   "execution_count": 5,
   "metadata": {},
   "outputs": [],
   "source": [
    "text_splitter = RecursiveCharacterTextSplitter(\n",
    "    chunk_size=1000,  # chunk size (characters)\n",
    "    chunk_overlap=200,  # chunk overlap (characters)\n",
    "    add_start_index=True,  # track index in original document\n",
    ")"
   ]
  },
  {
   "cell_type": "code",
   "execution_count": 6,
   "metadata": {},
   "outputs": [],
   "source": [
    "file_list = os.listdir('pdfs')"
   ]
  },
  {
   "cell_type": "code",
   "execution_count": 7,
   "metadata": {},
   "outputs": [],
   "source": [
    "# this works but will be better if pull the data and clean before embedding\n",
    "urls = [\"https://uncyclopedia.com/wiki/HowTo:Become_a_Pope\", \"https://uncyclopedia.com/wiki/HowTo:Beat_a_Polar_Bear_in_a_Fight\"]"
   ]
  },
  {
   "cell_type": "code",
   "execution_count": 8,
   "metadata": {},
   "outputs": [],
   "source": [
    "def already_indexed(source_list, source_type=\"file\"):\n",
    "    l = []\n",
    "    for source in source_list:\n",
    "        if source_type == \"file\":\n",
    "            s = './pdfs/' + source\n",
    "        else:\n",
    "            s = source\n",
    "        results = index.query(vector=[0]*3072, top_k=10000, filter={\"source\": {\"$eq\": s}}, include_metadata=True)\n",
    "        if len(results['matches']) == 0:\n",
    "            l.append(source)\n",
    "        else:\n",
    "            # ids = [i['id'] for i in results['matches']] can return matches if we need to\n",
    "            print(f\"{source} exists in index already\")\n",
    "\n",
    "    return l"
   ]
  },
  {
   "cell_type": "code",
   "execution_count": 9,
   "metadata": {},
   "outputs": [],
   "source": [
    "def process_and_store_documents(source_list, source_type=\"file\"):\n",
    "    for source in source_list:\n",
    "        if source_type == \"file\":\n",
    "            full_path = './pdfs/' + source\n",
    "            loader = PyPDFLoader(full_path)\n",
    "        elif source_type == \"web\":\n",
    "            loader = WebBaseLoader(source)\n",
    "        else:\n",
    "            raise ValueError(\"Invalid source type. Use 'file' or 'web'.\")\n",
    "\n",
    "        documents = loader.load()\n",
    "        docs = text_splitter.split_documents(documents)\n",
    "        print(\"Adding {source} to vector store\")\n",
    "        vector_store.add_documents(docs)"
   ]
  },
  {
   "cell_type": "code",
   "execution_count": 10,
   "metadata": {},
   "outputs": [
    {
     "name": "stdout",
     "output_type": "stream",
     "text": [
      "bigfoot_sasquatch_legend.pdf exists in index already\n"
     ]
    }
   ],
   "source": [
    "file_list = already_indexed(file_list)\n",
    "if file_list: process_and_store_documents(file_list)"
   ]
  },
  {
   "cell_type": "code",
   "execution_count": 11,
   "metadata": {},
   "outputs": [
    {
     "name": "stdout",
     "output_type": "stream",
     "text": [
      "https://uncyclopedia.com/wiki/HowTo:Become_a_Pope exists in index already\n",
      "https://uncyclopedia.com/wiki/HowTo:Beat_a_Polar_Bear_in_a_Fight exists in index already\n"
     ]
    }
   ],
   "source": [
    "urls = already_indexed(urls, source_type=\"web\")\n",
    "if urls: process_and_store_documents(urls, source_type=\"web\")"
   ]
  },
  {
   "cell_type": "code",
   "execution_count": 29,
   "metadata": {},
   "outputs": [
    {
     "data": {
      "text/plain": [
       "\"HowTo:Beat a Polar Bear in a Fight - Uncyclopedia, the content-free encyclopedia\\n\\n\\n\\n\\n\\n\\n\\n\\n\\n\\n\\n\\n\\n\\n\\n\\n\\n\\n\\n\\n\\n\\n\\n\\n\\n\\n\\n\\n\\n\\n\\n\\n\\n\\n\\n\\n\\n\\nHowTo:Beat a Polar Bear in a Fight\\n\\nFrom Uncyclopedia, the content-free encyclopedia\\n\\n\\n\\nJump to navigation\\nJump to search\\n“What punk-ass muthafucka can't beat a honky like dat in a fight?”~ Malcolm X on Polar Bears\\n Figure One: Polar Bear.\\n\\n\\n\\n\\nHowToThis article is part of Uncyclopedia's HowTo series.See more HowTos\""
      ]
     },
     "execution_count": 29,
     "metadata": {},
     "output_type": "execute_result"
    }
   ],
   "source": [
    "query_embedding = embeddings.embed_query(\"Polar Bear Fight\")\n",
    "results = vector_store.similarity_search_by_vector_with_score(query_embedding,k=10)\n",
    "doc, score = results[0]\n",
    "doc.page_content"
   ]
  },
  {
   "cell_type": "markdown",
   "metadata": {},
   "source": [
    "#### Generate Summary base on Document Context"
   ]
  },
  {
   "cell_type": "code",
   "execution_count": 11,
   "metadata": {},
   "outputs": [],
   "source": [
    "llm = init_chat_model(\"gpt-4o-mini\", model_provider=\"openai\")"
   ]
  },
  {
   "cell_type": "code",
   "execution_count": 12,
   "metadata": {},
   "outputs": [],
   "source": [
    "prompt = ChatPromptTemplate.from_template(\"\"\"Answer the question based only on \n",
    "    the following context:\n",
    "{context}\n",
    "\n",
    "Question: {question}\n",
    "\"\"\")"
   ]
  },
  {
   "cell_type": "code",
   "execution_count": 13,
   "metadata": {},
   "outputs": [],
   "source": [
    "class State(TypedDict):\n",
    "    question: str\n",
    "    context: List[Document]\n",
    "    answer: str\n",
    "\n",
    "\n",
    "def retrieve(state: State):\n",
    "    retrieved_docs = vector_store.similarity_search(state[\"question\"])\n",
    "    return {\"context\": retrieved_docs}\n",
    "\n",
    "\n",
    "def generate(state: State):\n",
    "    docs_content = \"\\n\\n\".join(doc.page_content for doc in state[\"context\"])\n",
    "    messages = prompt.invoke({\"question\": state[\"question\"], \"context\": docs_content})\n",
    "    response = llm.invoke(messages)\n",
    "    return {\"answer\": response.content}"
   ]
  },
  {
   "cell_type": "code",
   "execution_count": 14,
   "metadata": {},
   "outputs": [],
   "source": [
    "graph_builder = StateGraph(State).add_sequence([retrieve, generate])\n",
    "graph_builder.add_edge(START, \"retrieve\")\n",
    "graph = graph_builder.compile()"
   ]
  },
  {
   "cell_type": "code",
   "execution_count": 15,
   "metadata": {},
   "outputs": [],
   "source": [
    "# Define the request body model\n",
    "class QueryRequest(BaseModel):\n",
    "    question: str\n",
    "\n",
    "# Define the response format\n",
    "class QueryResponse(BaseModel):\n",
    "    # context: List[str]\n",
    "    answer: str"
   ]
  },
  {
   "cell_type": "code",
   "execution_count": 16,
   "metadata": {},
   "outputs": [],
   "source": [
    "result = graph.invoke({\"question\": 'how to fight a polar bear'})"
   ]
  },
  {
   "cell_type": "code",
   "execution_count": 18,
   "metadata": {},
   "outputs": [
    {
     "data": {
      "text/plain": [
       "'how to fight a polar bear'"
      ]
     },
     "execution_count": 18,
     "metadata": {},
     "output_type": "execute_result"
    }
   ],
   "source": [
    "result['question']"
   ]
  },
  {
   "cell_type": "code",
   "execution_count": null,
   "metadata": {},
   "outputs": [
    {
     "data": {
      "text/plain": [
       "{'https://uncyclopedia.com/wiki/HowTo:Beat_a_Polar_Bear_in_a_Fight'}"
      ]
     },
     "execution_count": 43,
     "metadata": {},
     "output_type": "execute_result"
    }
   ],
   "source": [
    "# soruce document\n",
    "set([result['context'][i].metadata['source'] for i in range(len(result['context']))])"
   ]
  },
  {
   "cell_type": "code",
   "execution_count": 44,
   "metadata": {},
   "outputs": [
    {
     "name": "stdout",
     "output_type": "stream",
     "text": [
      "To fight a polar bear, you must first convince it to engage with you. Here are the steps based on the provided context:\n",
      "\n",
      "1. **Approach the bear**: Walk up to the polar bear and tap it on the shoulder.\n",
      "2. **Create a scenario**: Explain to the bear that it is eating your stinky dead seal. Be cautious not to be too aggressive, as polar bears are not naturally aggressive and may leave.\n",
      "3. **Seek a reaction**: If the bear swipes at your face with its claws, this is a potential opening for a fight. Ensure that the swipe makes a deep cut on your face (at least two inches deep).\n",
      "4. **Avoid protecting yourself**: If you instinctively bring your hand to your face, the bear might slash your wrist instead, leading to a loss of respect and diminishing your chances of engaging further.\n",
      "5. **Show annoyance**: After receiving several cuts, demonstrate annoyance (but not anger) towards the bear.\n",
      "6. **Wrestle for the seal**: Attempt to wrestle the dead seal from the bear’s jaws when it does not give it up.\n",
      "\n",
      "Remember, these steps are part of a hypothetical scenario as polar bears are dangerous animals and should not be approached or provoked in real life.\n"
     ]
    }
   ],
   "source": [
    "print(result['answer'])"
   ]
  },
  {
   "cell_type": "markdown",
   "metadata": {},
   "source": [
    "#### Delete a Source"
   ]
  },
  {
   "cell_type": "code",
   "execution_count": 31,
   "metadata": {},
   "outputs": [
    {
     "data": {
      "text/plain": [
       "{'dimension': 3072,\n",
       " 'index_fullness': 0.0,\n",
       " 'namespaces': {'': {'vector_count': 60}},\n",
       " 'total_vector_count': 60}"
      ]
     },
     "execution_count": 31,
     "metadata": {},
     "output_type": "execute_result"
    }
   ],
   "source": [
    "index.describe_index_stats()"
   ]
  },
  {
   "cell_type": "code",
   "execution_count": null,
   "metadata": {},
   "outputs": [],
   "source": [
    "# delete_source\n",
    "delete_source = \"https://uncyclopedia.com/wiki/UnNews:I%27m_a_doctor_%E2%80%94_You%27re_peeing_all_wrong\""
   ]
  },
  {
   "cell_type": "code",
   "execution_count": null,
   "metadata": {},
   "outputs": [
    {
     "name": "stdout",
     "output_type": "stream",
     "text": [
      "Deleted 15 vectors from source: https://uncyclopedia.com/wiki/UnNews:I%27m_a_doctor_%E2%80%94_You%27re_peeing_all_wrong\n"
     ]
    }
   ],
   "source": [
    "results = index.query(vector=[0]*3072, top_k=10000, filter={\"source\": {\"$eq\": delete_source}}, include_metadata=True)\n",
    "\n",
    "ids_to_delete = [match[\"id\"] for match in results[\"matches\"]]\n",
    "\n",
    "if ids_to_delete:\n",
    "    index.delete(ids=ids_to_delete)\n",
    "    print(f\"Deleted {len(ids_to_delete)} vectors from source: {delete_source}\")\n",
    "else:\n",
    "    print(\"No vectors found for the specified source.\")"
   ]
  },
  {
   "cell_type": "code",
   "execution_count": 38,
   "metadata": {},
   "outputs": [
    {
     "data": {
      "text/plain": [
       "{'dimension': 3072,\n",
       " 'index_fullness': 0.0,\n",
       " 'namespaces': {'': {'vector_count': 45}},\n",
       " 'total_vector_count': 45}"
      ]
     },
     "execution_count": 38,
     "metadata": {},
     "output_type": "execute_result"
    }
   ],
   "source": [
    "index.describe_index_stats()"
   ]
  }
 ],
 "metadata": {
  "kernelspec": {
   "display_name": "pine",
   "language": "python",
   "name": "python3"
  },
  "language_info": {
   "codemirror_mode": {
    "name": "ipython",
    "version": 3
   },
   "file_extension": ".py",
   "mimetype": "text/x-python",
   "name": "python",
   "nbconvert_exporter": "python",
   "pygments_lexer": "ipython3",
   "version": "3.12.3"
  }
 },
 "nbformat": 4,
 "nbformat_minor": 2
}
